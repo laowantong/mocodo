{
 "cells": [
  {
   "cell_type": "code",
   "execution_count": null,
   "metadata": {},
   "outputs": [],
   "source": [
    "%reload_ext mocodo"
   ]
  },
  {
   "cell_type": "code",
   "execution_count": null,
   "metadata": {},
   "outputs": [],
   "source": [
    "%%mocodo\n",
    "% MCD d'accueil\n",
    "% Un petit zoo de la syntaxe de Mocodo, avec quelques fonctionnalités :\n",
    "% - de base : entité, association, attribut, identifiant, cardinalité, patte ;\n",
    "% - sur les entités : forte, faible (AYANT-DROIT) ;\n",
    "% - sur les associations : binaire, ternaire (FOURNIR), réflexive arborescente\n",
    "%  (CONTRÔLER) ou pas (COMPOSER), de dépendance fonctionnelle (DF, EMPLOYER) ;\n",
    "%  rôle des pattes (CONTRÔLER et COMPOSER), flèche, contrainte (I) ;\n",
    "% - visuelles : dévoilement graduel, explications interactives (survolez les\n",
    "%  cardinalités des associations réflexives ou la contrainte d'inclusion).\n",
    "% \n",
    "% MCD adapté de : The entity-relationship model—toward a unified view of data\n",
    "% (Chen, 1976).\n",
    "\n",
    "AYANT-DROIT: nom ayant-droit, lien\n",
    "DIRIGER, 0N EMPLOYÉ, 01 PROJET\n",
    "REQUÉRIR, 1N PROJET, 0N PIÈCE: qté requise\n",
    "PIÈCE: réf. pièce, libellé pièce\n",
    "COMPOSER, 0N [composée] PIÈCE, 0N [composante] PIÈCE: quantité\n",
    "\n",
    "DF1, _11 AYANT-DROIT, 0N EMPLOYÉ\n",
    "EMPLOYÉ: matricule, nom employé\n",
    "PROJET: num. projet, nom projet\n",
    "FOURNIR, 1N PROJET, 1N PIÈCE, 1N SOCIÉTÉ: qté fournie\n",
    "\n",
    "DÉPARTEMENT: num. département, nom département\n",
    "EMPLOYER, 11 EMPLOYÉ, 1N DÉPARTEMENT\n",
    "TRAVAILLER, 0N EMPLOYÉ, 1N PROJET\n",
    "SOCIÉTÉ: num. société, raison sociale\n",
    "CONTRÔLER, 0N< [filiale] SOCIÉTÉ, 01 [mère] SOCIÉTÉ\n",
    "\n",
    "  (I) [Les pièces fournies par une société pour un projet font partie de celles qu'il requiert.] ..PIÈCE, ->REQUÉRIR, --FOURNIR, PROJET"
   ]
  },
  {
   "cell_type": "code",
   "execution_count": null,
   "metadata": {},
   "outputs": [],
   "source": [
    "%%mocodo\n",
    "% Entité\n",
    "% Pour créer une entité E, écrivez sur une ligne « E: ».\n",
    "\n",
    "Produit:"
   ]
  },
  {
   "cell_type": "code",
   "execution_count": null,
   "metadata": {},
   "outputs": [],
   "source": [
    "%%mocodo\n",
    "% Attribut d'entité\n",
    "% Donnez-lui des attributs en écrivant « E: attr_1, attr_2, ... ».\n",
    "\n",
    "Produit: Réf. produit, Libellé, Prix unitaire"
   ]
  },
  {
   "cell_type": "code",
   "execution_count": null,
   "metadata": {},
   "outputs": [],
   "source": [
    "%%mocodo\n",
    "% Association\n",
    "% Pour une association A entre plusieurs entités E1, E2, ..., écrivez sur une\n",
    "% ligne « A, XX E1, XX E2, ... ».\n",
    "\n",
    "Produit: réf. produit, libellé, prix unitaire\n",
    "Inclure, XX Commande, XX Produit\n",
    "Commande: num commande, date, montant"
   ]
  },
  {
   "cell_type": "code",
   "execution_count": null,
   "metadata": {},
   "outputs": [],
   "source": [
    "%%mocodo\n",
    "% Attribut d'association\n",
    "% Pour ajouter des attributs à une association, mettez un deux-points au bout\n",
    "% de la ligne, puis énumérez ces attributs en les séparant par des virgules.\n",
    "\n",
    "Produit: réf. produit, libellé, prix unitaire\n",
    "Inclure, XX Commande, XX Produit: quantité\n",
    "Commande: num commande, date, montant"
   ]
  },
  {
   "cell_type": "code",
   "execution_count": null,
   "metadata": {},
   "outputs": [],
   "source": [
    "%%mocodo\n",
    "% Cardinalités\n",
    "% Si vous connaissez le couple de cardinalités d'une patte, mettez 01, 11, 0N\n",
    "% ou 1N à la place du XX de l'entité distinguée par cette patte.\n",
    "\n",
    "Produit: réf. produit, libellé, prix unitaire\n",
    "Inclure, 1N Commande, 0N Produit: quantité\n",
    "Commande: num commande, date, montant"
   ]
  },
  {
   "cell_type": "code",
   "execution_count": null,
   "metadata": {},
   "outputs": [],
   "source": [
    "%%mocodo\n",
    "% Association de dépendance fonctionnelle\n",
    "% Si votre association a une cardinalité 11, mais aucun attribut, vous pouvez\n",
    "% la nommer « DF » : Mocodo la figurera par un cercle.\n",
    "\n",
    "Produit: réf. produit, libellé, prix unitaire\n",
    "Inclure, 1N Commande, 0N Produit: quantité\n",
    "Commande: num commande, date, montant\n",
    "DF, 0N Client, 11 Commande\n",
    "Client: réf. client, nom, prénom, adresse"
   ]
  },
  {
   "cell_type": "code",
   "execution_count": null,
   "metadata": {},
   "outputs": [],
   "source": [
    "%%mocodo\n",
    "% Explication interactive des cardinalités\n",
    "% Le survol d'une cardinalité suivie d'un texte entre crochets affiche celui-\n",
    "% ci dans un bandeau en haut ou en bas du diagramme. Essayez !\n",
    "\n",
    "Produit: réf. produit, libellé, prix unitaire\n",
    "Inclure, 1N [Une commande inclut au moins un produit.] Commande, 0N [Un produit peut être commandé un nombre quelconque de fois.] Produit: quantité\n",
    "Commande: num commande, date, montant\n",
    "DF, 0N [Un client peut passer zéro (prospect) ou plusieurs commandes.] Client, 11 [Une commande est passée par un et un seul client.] Commande\n",
    "Client: réf. client, nom, prénom, adresse"
   ]
  },
  {
   "cell_type": "code",
   "execution_count": null,
   "metadata": {},
   "outputs": [],
   "source": [
    "%%mocodo\n",
    "% Association réflexive\n",
    "% En répétant le nom d'une entité dans la définition d'une association, vous\n",
    "% rendez celle-ci réflexive.\n",
    "\n",
    "Produit: réf. produit, libellé, prix unitaire\n",
    "Inclure, 1N Commande, 0N Produit: quantité\n",
    "Commande: num commande, date, montant\n",
    "DF, 0N Client, 11 Commande\n",
    "Client: réf. client, nom, prénom, adresse\n",
    "Parrainer, 01 Client, 0N Client : date parrainage"
   ]
  },
  {
   "cell_type": "code",
   "execution_count": null,
   "metadata": {},
   "outputs": [],
   "source": [
    "%%mocodo\n",
    "% Flèche sur une patte\n",
    "% En suffixant de « < » ou « > » des cardinalités, vous créez une flèche dont\n",
    "% la direction se lit allant de l'association à l'entité.\n",
    "\n",
    "Produit: réf. produit, libellé, prix unitaire\n",
    "Inclure, 1N Commande, 0N> Produit: quantité\n",
    "Commande: num commande, date, montant\n",
    "DF, 0N Client, 11 Commande\n",
    "Client: réf. client, nom, prénom, adresse\n",
    "Parrainer, 01> Client, 0N< Client : date parrainage"
   ]
  },
  {
   "cell_type": "code",
   "execution_count": null,
   "metadata": {},
   "outputs": [],
   "source": [
    "%%mocodo\n",
    "% Schéma sur plusieurs rangées\n",
    "% Les boîtes (entités et association) définies sur des lignes consécutives\n",
    "% sont alignées horizontalement sur la même rangée d'une grille invisible.\n",
    "% Pour créer une nouvelle rangée, sautez une ligne entre deux clauses.\n",
    "\n",
    "Produit: réf. produit, libellé, prix unitaire\n",
    "Inclure, 1N Commande, 0N Produit: quantité\n",
    "Commande: num commande, date, montant\n",
    "\n",
    "DF, 0N Client, 11 Commande\n",
    "Client: réf. client, nom, prénom, adresse\n",
    "Parrainer, 01 Client, 0N Client : date parrainage"
   ]
  },
  {
   "cell_type": "code",
   "execution_count": null,
   "metadata": {},
   "outputs": [],
   "source": [
    "%%mocodo\n",
    "% Réarrangement automatique\n",
    "% Quand le schéma commence à devenir confus, cliquez sur les deux flèches\n",
    "% croisées (à gauche) pour réordonner automatiquement les définitions de façon\n",
    "% à interdire les croisements et minimiser la longueur des pattes. Essayez !\n",
    "\n",
    "Produit: réf. produit, libellé, prix unitaire\n",
    "Inclure, 1N Commande, 0N Produit: quantité\n",
    "Commande: num commande, date, montant\n",
    "\n",
    "DF, 0N Client, 11 Commande\n",
    "Client: réf. client, nom, prénom, adresse\n",
    "Parrainer, 01 Client, 0N Client : date parrainage"
   ]
  },
  {
   "cell_type": "code",
   "execution_count": null,
   "metadata": {},
   "outputs": [],
   "source": [
    "%%mocodo\n",
    "% Réarrangement automatique minimal\n",
    "% Quand le schéma commence à prendre trop de place, maintenez ALT en cliquant\n",
    "% sur les deux flèches croisées pour chercher un réarrangement sur la plus\n",
    "% petite grille équilibrée possible. Essayez !\n",
    "\n",
    "Produit: réf. produit, libellé, prix unitaire\n",
    "Inclure, 1N Commande, 0N Produit: quantité\n",
    "Commande: num commande, date, montant\n",
    "\n",
    "DF, 0N Client, 11 Commande\n",
    "Client: réf. client, nom, prénom, adresse\n",
    "Parrainer, 01 Client, 0N Client : date parrainage"
   ]
  },
  {
   "cell_type": "code",
   "execution_count": null,
   "metadata": {},
   "outputs": [],
   "source": [
    "%%mocodo\n",
    "% Explication des cardinalités\n",
    "% Si vous insérez un court message entre crochets entre les cardinalités et le\n",
    "% le nom de l'entité, celui-ci apparaîtra au survol. Essayez en survolant les\n",
    "% cardinalités de l'association réflexive Parrainer !\n",
    "\n",
    "Parrainer, 01 [Un client peut avoir été parrainé ou non.] Client, 0N [Un client peut parrainer d'autres clients.] Client : date parrainage\n",
    "Produit: réf. produit, libellé, prix unitaire\n",
    "Inclure, 1N Commande, 0N Produit: quantité\n",
    "\n",
    "Client: réf. client, nom, prénom, adresse\n",
    "DF, 0N Client, 11 Commande\n",
    "Commande: num commande, date, montant"
   ]
  },
  {
   "cell_type": "code",
   "execution_count": null,
   "metadata": {},
   "outputs": [],
   "source": [
    "%%mocodo\n",
    "% Rôle d'une patte pour le MLD\n",
    "% La même syntaxe sert à « préserver » la sémantique d'une association appelée\n",
    "% à disparaître lors du passage au relationnel. Ici, notez le rôle « parrain »\n",
    "% et ce qu'il devient dans le MLD textuel généré sous le MCD.\n",
    "\n",
    "Parrainer, 01 Client, 0N [parrain] Client : date parrainage\n",
    "Produit: réf. produit, libellé, prix unitaire\n",
    "Inclure, 1N Commande, 0N Produit: quantité\n",
    "\n",
    "Client: réf. client, nom, prénom, adresse\n",
    "DF, 0N Client, 11 Commande\n",
    "Commande: num commande, date, montant"
   ]
  },
  {
   "cell_type": "code",
   "execution_count": null,
   "metadata": {},
   "outputs": [],
   "source": [
    "%%mocodo\n",
    "% MLD sous forme de diagramme relationnel\n",
    "% Si vous avez coché la case « diagramme relationnel » sous l'onglet Options,\n",
    "% vous pouvez copier le texte généré sous l'onglet Relations, puis le coller\n",
    "% sous l'onglet Entrée pour visualiser son équivalent graphique.\n",
    "%\n",
    "% NB. Ce type d'entrée n'est pas censé être écrit à la main, mais généré.\n",
    "\n",
    "::\n",
    "Produit: réf. produit, libellé, prix unitaire\n",
    ":\n",
    "Inclure: #num commande->Commande->num commande, _#réf. produit->Produit->réf. produit, quantité\n",
    ":\n",
    "\n",
    ":\n",
    "Client: réf. client, nom, prénom, adresse, #réf. client parrain->Client->réf. client, date parrainage\n",
    "::\n",
    "Commande: num commande, date, montant, #réf. client->Client->réf. client\n",
    ":"
   ]
  },
  {
   "cell_type": "code",
   "execution_count": null,
   "metadata": {},
   "outputs": [],
   "source": [
    "%%mocodo\n",
    "% Dévoilement progressif du schéma\n",
    "% Indentez (i.e., insérez des espaces au début de) certaines clauses pour\n",
    "% créer des calques. Les boîtes définies avec la même indentation sont tracées\n",
    "% sur le même calque. Les calques sont ordonnés par indentation croissante.\n",
    "\n",
    "      Parrainer, 01 Client, 0N Client : date parrainage\n",
    "Produit: réf. produit, libellé, prix unitaire\n",
    "  Inclure, 1N Commande, 0N Produit: quantité\n",
    " \n",
    "    Client: réf. client, nom, prénom, adresse\n",
    "    DF, 0N Client, 11 Commande\n",
    "  Commande: num commande, date, montant"
   ]
  },
  {
   "cell_type": "code",
   "execution_count": null,
   "metadata": {},
   "outputs": [],
   "source": [
    "%%mocodo\n",
    "% Entité faible (ou identification relative)\n",
    "% Préfixez de « _ » une cardinalité 11 pour « affaiblir » l'entité distinguée,\n",
    "% dont l'identifiant sera alors souligné en pointillés.\n",
    "%\n",
    "% NB. De façon non conventionnelle, Mocodo souligne le 11 pour signifier que\n",
    "% le « renforcement » de l'identifiant va passer par là. Voir la documentation\n",
    "% pour des représentations alternatives.\n",
    "\n",
    "Œuvre: cote œuvre, titre, date parution\n",
    "DF, 1N Œuvre, _11 Exemplaire\n",
    "Exemplaire: num. exemplaire, état du livre, date d'achat"
   ]
  },
  {
   "cell_type": "code",
   "execution_count": null,
   "metadata": {},
   "outputs": [],
   "source": [
    "%%mocodo\n",
    "% Entité sans identifiant\n",
    "% Préfixez d'un « _ » le premier attribut pour l'exclure de l'identifiant, p.\n",
    "% ex. pour une entité faible sans discriminant.\n",
    "\n",
    "Pavillon: id. pavillon, surface, nombre d'étages\n",
    "Posséder, 01 Pavillon, _11 Piscine\n",
    "Piscine: _surface, volume"
   ]
  },
  {
   "cell_type": "code",
   "execution_count": null,
   "metadata": {},
   "outputs": [],
   "source": [
    "%%mocodo\n",
    "% Identifiant composite\n",
    "% Inversement, si vous voulez inclure dans l'identifiant un attribut autre que\n",
    "% le premier, préfixez le de « _ ».\n",
    "\n",
    "GRATTE-CIEL: latitude, _longitude, nom, hauteur, année de construction"
   ]
  },
  {
   "cell_type": "code",
   "execution_count": null,
   "metadata": {},
   "outputs": [],
   "source": [
    "%%mocodo\n",
    "% MCD vide\n",
    "% Remplacez les cardinalités par XX et les attributs par des suites d'espaces\n",
    "% insécables pour créer un « squelette » de MCD à remplir.\n",
    "\n",
    "Parrainer, XX Client, XX Client\n",
    "Produit: _           ,,,\n",
    "Inclure, XX Commande, XX Produit\n",
    " \n",
    "Client: _            ,,,\n",
    "DF, XX Client, XX Commande\n",
    "Commande: _            ,,,"
   ]
  },
  {
   "cell_type": "code",
   "execution_count": null,
   "metadata": {},
   "outputs": [],
   "source": [
    "%%mocodo\n",
    "% Boîtes homonymes\n",
    "% L'éventuel dernier chiffre d'un nom d'entité ou d'association n'est pas\n",
    "% affiché. C'est bon à savoir, p. ex. pour monnayer une entité « fictive »\n",
    "% trop pattue : ici, on évite les croisements en créant deux entités Date.\n",
    "\n",
    "Date1: date\n",
    "\n",
    ":\n",
    "A40, 0N E10, 0N E20, 0N Date2\n",
    "A30, 0N E30, 0N E10, 0N Date1\n",
    "E30: _         \n",
    "A60, 11 E40, 0N E30\n",
    "\n",
    "E20: _         \n",
    "Date2: date\n",
    "E10: _         \n",
    "A50, 1N E40, 1N E10\n",
    "E40: _         \n",
    "\n",
    "A10, 0N E10, 0N E20, 0N Date2         \n",
    ":\n",
    ":"
   ]
  },
  {
   "cell_type": "code",
   "execution_count": null,
   "metadata": {},
   "outputs": [],
   "source": [
    "%%mocodo\n",
    "% Agrégation (ou pseudo-entité)\n",
    "% Préfixez de « / » une cardinalité pour créer une pseudo-entité avec\n",
    "% l'association et les autres entités que celle-ci met en jeu.\n",
    "%\n",
    "% NB. La représentation conventionnelle (non prise en charge par Mocodo)\n",
    "% insérerait une association entre Client et Réserver.\n",
    "\n",
    "Date: date\n",
    "Réserver, /1N Client, 1N Chambre, 0N Date: durée\n",
    "Chambre: numéro, prix\n",
    "\n",
    "Client: id. client"
   ]
  },
  {
   "cell_type": "code",
   "execution_count": null,
   "metadata": {},
   "outputs": [],
   "source": [
    "%%mocodo\n",
    "% Vue en extension\n",
    "% Combiner l'astuce' du dernier chiffre et celui des cardinalités « XX »\n",
    "% permet de créer une vue en extension.\n",
    "\n",
    "Œuvre: 612.NAT.34, J'apprends à lire à mes souris blanches, mai 1975\n",
    "\n",
    "DF1, XX Œuvre, XX Exemplaire1\n",
    "DF2, XX Œuvre, XX Exemplaire2\n",
    "DF3, XX Œuvre, XX Exemplaire3\n",
    "\n",
    "Exemplaire1: 1, bon état, 12/6/1975\n",
    "Exemplaire2: 2, bon état, 1/8/1977\n",
    "Exemplaire3: 3, reliure rongée, 3/4/2005"
   ]
  },
  {
   "cell_type": "code",
   "execution_count": null,
   "metadata": {},
   "outputs": [],
   "source": [
    "%%mocodo\n",
    "% Contrainte d'intégrité fonctionnelle (CIF)\n",
    "% Le même cas de figure peut aussi être rendu visuellement par une CIF.\n",
    "%\n",
    "% NB. Le paragraphe réduit à « : » permet d'ajouter une rangée vide à la\n",
    "% grille sous-jacente, de façon à aérer verticalement le MCD. Les nombres\n",
    "% représentent des pourcentages de la largeur et de la hauteur totales.\n",
    "\n",
    "Date: date\n",
    "Réserver, /1N Client, 1N Chambre, 0N Date: durée\n",
    "Chambre: numéro, prix\n",
    "\n",
    ":\n",
    "    \n",
    "Client: id. client\n",
    "    \n",
    "(CIF) ->Client, --Chambre, --Date, ..Réserver: 20, 75"
   ]
  },
  {
   "cell_type": "code",
   "execution_count": null,
   "metadata": {},
   "outputs": [],
   "source": [
    "%%mocodo\n",
    "% Contrainte sur associations\n",
    "% Ajoutez à votre MCD diverses contraintes sous forme de lettres entourées et\n",
    "% liées aux boîtes par des traits fléchés ou non, pleins ou pointillés, ou\n",
    "% même invisibles (pour jouer sur la position du barycentre).\n",
    "%\n",
    "% Source du MCD : Merise, deuxième génération (Nanci et Espinasse, 2001).\n",
    "\n",
    ":::\n",
    "Dépôt: num dépôt, surface\n",
    "\n",
    ":\n",
    "Louer, 11 Commande, 0N Dépôt\n",
    ":\n",
    "Stocker, 1N Dépôt, 1N Article: quantité\n",
    "\n",
    "Commande: num. commande, date\n",
    "Composer, 1N Commande, 0N Article\n",
    ":\n",
    "Article: réf. article, prix\n",
    "\n",
    "(I) ->Stocker, ..Dépôt, ..Article, --Composer, --Louer, Commande, Stocker"
   ]
  },
  {
   "cell_type": "code",
   "execution_count": null,
   "metadata": {},
   "outputs": [],
   "source": [
    "%%mocodo\n",
    "% Explication interactive d'une contrainte\n",
    "% Le survol d'une contrainte suivie d'un texte entre crochets affiche celui-ci\n",
    "% dans un bandeau en haut ou en bas du diagramme. Essayez !\n",
    "\n",
    "Projet: num. projet, nom projet\n",
    ":\n",
    "Fournir, 1N Projet, 1N Pièce, 1N Société: quantité\n",
    "Société: num. société, raison sociale\n",
    "    \n",
    "Requérir, 1N Projet, 0N Pièce: quantité\n",
    ":\n",
    "Pièce: réf. pièce, libellé pièce\n",
    "\n",
    "(I) [Toute pièce fournie doit avoir été requise.] ..Pièce, ->Requérir, --Fournir, Projet"
   ]
  },
  {
   "cell_type": "code",
   "execution_count": null,
   "metadata": {},
   "outputs": [],
   "source": [
    "%%mocodo\n",
    "% Héritage (ou spécialisation)\n",
    "% Pour spécialiser une entité E en une ou plusieurs autres entités E1, E2, ...\n",
    "% écrivez « /\\ E <- E1, E2, ... ».\n",
    "%\n",
    "% NB. Vous pouvez insérer X (exclusion) et/ou T (totalité) entre les barres\n",
    "% obliques, ajouter une liste d'attributs ou modifier la sémantique et/ou la\n",
    "% représentation graphique de l'héritage en remplaçant la flèche par <=, ->,\n",
    "% =>, <<=, <<-, ->> =>>. Voir la documentation.\n",
    "\n",
    "Personne: num SS, nom, prénom\n",
    "\n",
    "/\\ Personne <- Homme, Femme\n",
    "\n",
    "Homme: \n",
    ":\n",
    "Femme: nom de jeune fille"
   ]
  },
  {
   "cell_type": "code",
   "execution_count": null,
   "metadata": {},
   "outputs": [],
   "source": [
    "from pathlib import Path\n",
    "import os\n",
    "import re\n",
    "\n",
    "def boxed_text(lines):\n",
    "    width = len(max(lines, key=len))\n",
    "    lines[0] = \" \" * max(0, (width - len(lines[0])) // 2) + lines[0].upper()\n",
    "    lines[0:0] = [\"\"]\n",
    "    lines[2:2] = [\"\"]\n",
    "    lines.append(\"\")\n",
    "    result = []\n",
    "    result.append(\"%\" * (width + 6))\n",
    "    for line in lines:\n",
    "        spaces = \" \" * (width - len(line))\n",
    "        result.append(\"%  \" + line + spaces + \"  %\")\n",
    "    result.append(\"%\" * (width + 6))\n",
    "    result.append(\"\")\n",
    "    return \"\\n\".join(result)\n",
    "\n",
    "\n",
    "os.system(\"rm tutorial_box/*.mcd\")\n",
    "path = Path(\"tutorial.ipynb\")\n",
    "doc = json.loads(path.read_text())\n",
    "cells = []\n",
    "i = 0\n",
    "titles = []\n",
    "for cell in doc[\"cells\"]:\n",
    "    if cell[\"cell_type\"] == \"code\":\n",
    "        source = cell[\"source\"]\n",
    "        if source and source[0].startswith(\"%%mocodo\"):\n",
    "            title = source[1][1:].strip()\n",
    "            print(f\"{i}. {title}\")\n",
    "            titles.append(f'\"{title}\"')\n",
    "            lines = []\n",
    "            for (j, line) in enumerate(source[1:]):\n",
    "                if not line.startswith(\"%\"):\n",
    "                    text = boxed_text(lines) + \"\".join(source[j+1:])\n",
    "                    break\n",
    "                lines.append(line[2:-1])\n",
    "            Path(f\"tutorial_box/tuto-{i:04d}.mcd\").write_text(text)\n",
    "            Path(f\"../web/box/tuto-{i:04d}.mcd\").write_text(text)\n",
    "            i += 1\n",
    "print(f\"Updated {i} files in tutorial_box folder.\")\n",
    "js_path = Path(\"../web/mocodo.js\")\n",
    "code = js_path.read_text()\n",
    "(code, n) = re.subn(r'(?<=createOptions\\(\"tutorial\", )\\[.+?\\]', f\"[{', '.join(titles)}]\", code)\n",
    "if n == 0:\n",
    "    print(\"Warning: unable to update mocodo.js!\")\n",
    "else:\n",
    "    js_path.write_text(code)\n",
    "    print(\"Updated mocodo.js.\")\n",
    "os.system(\"open tutorial_box\");"
   ]
  },
  {
   "cell_type": "code",
   "execution_count": null,
   "metadata": {},
   "outputs": [],
   "source": []
  }
 ],
 "metadata": {
  "anaconda-cloud": {},
  "kernelspec": {
   "display_name": "Python 3 (ipykernel)",
   "language": "python",
   "name": "python3"
  },
  "language_info": {
   "codemirror_mode": {
    "name": "ipython",
    "version": 3
   },
   "file_extension": ".py",
   "mimetype": "text/x-python",
   "name": "python",
   "nbconvert_exporter": "python",
   "pygments_lexer": "ipython3",
   "version": "3.9.13"
  },
  "toc": {
   "base_numbering": 1,
   "nav_menu": {},
   "number_sections": false,
   "sideBar": true,
   "skip_h1_title": false,
   "title_cell": "Table of Contents",
   "title_sidebar": "Contents",
   "toc_cell": false,
   "toc_position": {},
   "toc_section_display": "block",
   "toc_window_display": false
  },
  "varInspector": {
   "cols": {
    "lenName": 16,
    "lenType": 16,
    "lenVar": 40
   },
   "kernels_config": {
    "python": {
     "delete_cmd_postfix": "",
     "delete_cmd_prefix": "del ",
     "library": "var_list.py",
     "varRefreshCmd": "print(var_dic_list())"
    },
    "r": {
     "delete_cmd_postfix": ") ",
     "delete_cmd_prefix": "rm(",
     "library": "var_list.r",
     "varRefreshCmd": "cat(var_dic_list()) "
    }
   },
   "types_to_exclude": [
    "module",
    "function",
    "builtin_function_or_method",
    "instance",
    "_Feature"
   ],
   "window_display": false
  }
 },
 "nbformat": 4,
 "nbformat_minor": 1
}
